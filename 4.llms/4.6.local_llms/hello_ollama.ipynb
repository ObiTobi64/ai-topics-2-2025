{
 "cells": [
  {
   "cell_type": "code",
   "execution_count": 1,
   "id": "dd7a071d",
   "metadata": {},
   "outputs": [],
   "source": [
    "from ollama import chat\n",
    "from ollama import ChatResponse"
   ]
  },
  {
   "cell_type": "code",
   "execution_count": 2,
   "id": "36b17b2a",
   "metadata": {},
   "outputs": [],
   "source": [
    "response = chat(model=\"gemma3:1b\", messages=[\n",
    "    {\"role\":\"user\", \"content\": \"por que el cielo es azul?\"}\n",
    "])"
   ]
  },
  {
   "cell_type": "code",
   "execution_count": 3,
   "id": "deaf4afc",
   "metadata": {},
   "outputs": [
    {
     "data": {
      "text/plain": [
       "'La razón por la que el cielo es azul es un fenómeno fascinante que se basa en la forma en que la luz del sol interactúa con los gases en la atmósfera de la Tierra. Aquí te explico con más detalle:\\n\\n**1. La Luz del Sol es RGB:**\\n\\n*   El sol emite luz en todas las longitudes de onda, pero la vemos como una mezcla de colores: rojo, naranja, amarillo y verde.  Este espectro de luz es lo que percibimos como el color del sol.\\n\\n**2. La Atmósfera y los Colores:**\\n\\n*   La atmósfera de la Tierra está compuesta principalmente de nitrógeno y oxígeno.\\n*   Cuando la luz del sol entra en la atmósfera, choca con estas moléculas de gas.  Esto hace que la luz se disperse y se difumine.\\n\\n**3. El Espectro de Rayos del Sol:**\\n\\n*   La luz del sol, al chocar con las moléculas de gas, es dispersada en todas direcciones. Esto significa que cada color de la luz se dispersa en diferentes direcciones.\\n\\n**4. Por qué vemos el Azul:**\\n\\n*   La luz azul se dispersa **más que los otros colores** de la luz del sol.  Piensa en ello como si tuvieras una \"gran cantidad de esferas de agua\" en el aire.  La luz azul es como una esfera de agua más pequeña, por lo que se dispersa en todas direcciones más fácilmente.\\n*   Como la luz azul se dispersa en todas direcciones, la vemos de todas partes en el cielo.\\n\\n**5. El Azul en Diferentes Horas del Día:**\\n\\n*   **Por la mañana:** El sol está más bajo en el horizonte, lo que significa que la luz que llega a nosotros es más directa.  Esto hace que la luz azul se disperse más, y vemos un cielo azul claro.\\n*   **Por la tarde:** El sol está más alto en el horizonte, por lo que la luz que llega a nosotros es más difusa.  Esto hace que la luz azul se disperse menos, y vemos un cielo más azulado, con un ligero tono anaranjado.\\n*   **Por la noche:**  El sol ya no está brillando, y la atmósfera está más oscura.  La luz azul se dispersa aún más, y vemos el cielo negro (o un negro azulado, dependiendo de la contaminación atmosférica).\\n\\n**En resumen, el azul del cielo es resultado de la dispersión de la luz solar por las moléculas de aire en la atmósfera.**\\n\\n**Un poco de ciencia adicional:**  La longitud de onda de la luz azul es más corta que la de otros colores. Esto significa que es más fácil para la luz azul ser dispersada.\\n\\nEspero que esta explicación te sea útil!\\n'"
      ]
     },
     "execution_count": 3,
     "metadata": {},
     "output_type": "execute_result"
    }
   ],
   "source": [
    "response.message.content"
   ]
  },
  {
   "cell_type": "code",
   "execution_count": 13,
   "id": "f43055b9",
   "metadata": {},
   "outputs": [],
   "source": [
    "import dspy\n",
    "lm = dspy.LM(\"ollama_chat/gemma3:1b\", api_base=\"http://localhost:11434\", api_key=\"\")\n",
    "dspy.configure(lm=lm)"
   ]
  },
  {
   "cell_type": "code",
   "execution_count": 14,
   "id": "7a0dc03b",
   "metadata": {},
   "outputs": [],
   "source": [
    "predict = dspy.Predict(\"question -> answer\")\n"
   ]
  },
  {
   "cell_type": "code",
   "execution_count": 15,
   "id": "548e2e98",
   "metadata": {},
   "outputs": [],
   "source": [
    "outputs = predict(question=\"por que el cielo es azul?\")"
   ]
  },
  {
   "cell_type": "code",
   "execution_count": 16,
   "id": "43291303",
   "metadata": {},
   "outputs": [
    {
     "data": {
      "text/plain": [
       "\"The sky is blue because of a phenomenon called Rayleigh scattering. Sunlight is made up of all the colors of the rainbow. When sunlight enters the atmosphere, it collides with tiny air molecules. Blue light is scattered more than other colors because it has shorter wavelengths.  That's why we see blue light coming from all directions!\""
      ]
     },
     "execution_count": 16,
     "metadata": {},
     "output_type": "execute_result"
    }
   ],
   "source": [
    "outputs.answer"
   ]
  },
  {
   "cell_type": "code",
   "execution_count": null,
   "id": "70953386",
   "metadata": {},
   "outputs": [],
   "source": []
  }
 ],
 "metadata": {
  "kernelspec": {
   "display_name": "ai-topics-2-2025",
   "language": "python",
   "name": "python3"
  },
  "language_info": {
   "codemirror_mode": {
    "name": "ipython",
    "version": 3
   },
   "file_extension": ".py",
   "mimetype": "text/x-python",
   "name": "python",
   "nbconvert_exporter": "python",
   "pygments_lexer": "ipython3",
   "version": "3.12.11"
  }
 },
 "nbformat": 4,
 "nbformat_minor": 5
}
